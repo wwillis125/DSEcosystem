{
 "cells": [
  {
   "cell_type": "markdown",
   "id": "9c5e64dc-2bc7-4640-9b71-877eda7b6100",
   "metadata": {},
   "source": [
    "<center>\n",
    "    <img src=\"https://cf-courses-data.s3.us.cloud-object-storage.appdomain.cloud/IBMDeveloperSkillsNetwork-DS0105EN-SkillsNetwork/labs/Module2/images/SN_web_lightmode.png\" width=\"300\" alt=\"cognitiveclass.ai logo\">\n",
    "</center>\n"
   ]
  },
  {
   "cell_type": "markdown",
   "id": "bca0d27a-24c6-4c43-b116-c73c8d9ab219",
   "metadata": {},
   "source": [
    "# Hands-on Lab: Create your Jupyter Notebook\n"
   ]
  },
  {
   "cell_type": "markdown",
   "id": "8b126e2f-912e-42e0-8d57-43862ac465fc",
   "metadata": {},
   "source": [
    "#### Add your code below following the instructions given in the course\n"
   ]
  },
  {
   "cell_type": "markdown",
   "metadata": {},
   "source": [
    "# Data Science Tools and Ecosystem"
   ]
  },
  {
   "cell_type": "markdown",
   "metadata": {},
   "source": [
    "In this notebook we will summarize Data Science Tools and Ecosystems"
   ]
  },
  {
   "cell_type": "markdown",
   "metadata": {},
   "source": [
    "**Objectives**\n",
    "- list popular DS languages\n",
    "- list popular DS libraries\n",
    "- list popular DS tools\n",
    "- evaluate arithmetic expression"
   ]
  },
  {
   "cell_type": "markdown",
   "metadata": {},
   "source": [
    "Some of the popular languages that Data Scientists use are:\n",
    "\n",
    "1. Python\n",
    "2. SQL\n",
    "3. R\n",
    "4. Rust\n",
    "5. Git\n",
    "6. C++"
   ]
  },
  {
   "cell_type": "markdown",
   "metadata": {},
   "source": [
    "Some of the commonly used libraries that Data Scientists use are:\n",
    "1. Pandas\n",
    "2. Numpy\n",
    "3. Matplotlib\n",
    "4. Seaborn\n"
   ]
  },
  {
   "cell_type": "markdown",
   "metadata": {},
   "source": [
    "|Data Science Tools|\n",
    "----------------------\n",
    "|MySQL|\n",
    "|PostgreSQL|\n",
    "|MongoDB|"
   ]
  },
  {
   "cell_type": "markdown",
   "metadata": {},
   "source": [
    "### Below are a few examples of evaluating arithmetic expression:"
   ]
  },
  {
   "cell_type": "code",
   "execution_count": 3,
   "metadata": {},
   "outputs": [
    {
     "name": "stdout",
     "output_type": "stream",
     "text": [
      "17\n"
     ]
    }
   ],
   "source": [
    "#This is a simple arithmetic expression to multiply and then add integers:\n",
    "print((3*4)+5)"
   ]
  },
  {
   "cell_type": "code",
   "execution_count": 5,
   "metadata": {},
   "outputs": [
    {
     "name": "stdout",
     "output_type": "stream",
     "text": [
      "3.3333333333333335\n"
     ]
    }
   ],
   "source": [
    "#This will convert 200 minutes to hours by dividing by 60\n",
    "print(200/60)"
   ]
  },
  {
   "cell_type": "markdown",
   "metadata": {},
   "source": [
    "## Author\n",
    "Wesley Willis"
   ]
  },
  {
   "cell_type": "markdown",
   "id": "b5f467ed-efe7-45ac-a08b-b2d48c26ba81",
   "metadata": {},
   "source": [
    "Copyright ©2024 IBM Corporation. All rights reserved.\n"
   ]
  }
 ],
 "metadata": {
  "kernelspec": {
   "display_name": "Python 3 (ipykernel)",
   "language": "python",
   "name": "python3"
  },
  "language_info": {
   "codemirror_mode": {
    "name": "ipython",
    "version": 3
   },
   "file_extension": ".py",
   "mimetype": "text/x-python",
   "name": "python",
   "nbconvert_exporter": "python",
   "pygments_lexer": "ipython3",
   "version": "3.11.7"
  },
  "prev_pub_hash": "9e1985db9844176462bd1d5863048c9f3d17404bbc6a648be9084b0c42b29347"
 },
 "nbformat": 4,
 "nbformat_minor": 4
}
